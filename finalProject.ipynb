{
 "cells": [
  {
   "cell_type": "code",
   "execution_count": 1,
   "id": "a73af636",
   "metadata": {},
   "outputs": [],
   "source": [
    "import os\n",
    "import glob\n",
    "import numpy as np\n",
    "import librosa\n",
    "import librosa.display\n",
    "import matplotlib.pyplot as plt\n",
    "import seaborn as sns\n",
    "import joblib\n",
    "import sounddevice as sd\n",
    "from sklearn.model_selection import train_test_split\n",
    "from sklearn.ensemble import RandomForestClassifier\n",
    "from sklearn.metrics import classification_report, confusion_matrix, accuracy_score\n",
    "import tensorflow as tf\n",
    "from tensorflow.keras import layers, models\n",
    "from tensorflow.keras.models import load_model"
   ]
  },
  {
   "cell_type": "markdown",
   "id": "779daeef",
   "metadata": {},
   "source": [
    "##### Converts Genre code (string) to integer label (0-based)"
   ]
  },
  {
   "cell_type": "code",
   "execution_count": 2,
   "id": "8175c933",
   "metadata": {},
   "outputs": [],
   "source": [
    "genre_map = {\n",
    "    \"01\": 0, # Blues\n",
    "    \"02\": 1, # Classical\n",
    "    \"03\": 2, # Country\n",
    "    \"04\": 3, # Disco\n",
    "    \"05\": 4, # Hip-Hop\n",
    "    \"06\": 5, # Jazz\n",
    "    \"07\": 6, # Metal\n",
    "    \"08\": 7, # Pop\n",
    "    \"09\": 8, # Reggae\n",
    "    \"10\": 9  # Rock\n",
    "}\n",
    "\n",
    "genre_labels = [\"Blues\", \"Classical\", \"Country\", \"Disco\", \"Hip-Hop\", \"Jazz\", \"Metal\", \"Pop\", \"Reggae\", \"Rock\"]"
   ]
  },
  {
   "cell_type": "code",
   "execution_count": 3,
   "id": "5eca4e5c",
   "metadata": {},
   "outputs": [],
   "source": [
    "def extract_statistical_features(file_path, n_mfcc=13):\n",
    "    try:\n",
    "        y, sr = librosa.load(file_path, sr=None)\n",
    "        mfcc = librosa.feature.mfcc(y=y, sr=sr, n_mfcc=n_mfcc)\n",
    "        mfcc_delta = librosa.feature.delta(mfcc)\n",
    "        mfcc_delta2 = librosa.feature.delta(mfcc, order=2)\n",
    "        mfcc_mean = np.mean(mfcc, axis=1)\n",
    "        mfcc_std = np.std(mfcc, axis=1)\n",
    "        delta_mean = np.mean(mfcc_delta, axis=1)\n",
    "        delta_std = np.std(mfcc_delta, axis=1)\n",
    "        delta2_mean = np.mean(mfcc_delta2, axis=1)\n",
    "        delta2_std = np.std(mfcc_delta2, axis=1)\n",
    "        features = np.concatenate([mfcc_mean, mfcc_std, delta_mean, delta_std, delta2_mean, delta2_std])\n",
    "        return features, y, sr, mfcc\n",
    "    except Exception as e:\n",
    "        print(f\"Error processing {file_path}: {e}\")\n",
    "        return None, None, None, None"
   ]
  },
  {
   "cell_type": "code",
   "execution_count": 12,
   "id": "551bf02a",
   "metadata": {},
   "outputs": [
    {
     "name": "stdout",
     "output_type": "stream",
     "text": [
      "Number of audio files found: 1000\n"
     ]
    }
   ],
   "source": [
    "path = \"Genres\"\n",
    "\n",
    "song_files = glob.glob(os.path.join(path, '**', '*.wav'), recursive=True)\n",
    "print(\"Number of audio files found:\", len(song_files))"
   ]
  },
  {
   "cell_type": "code",
   "execution_count": 13,
   "id": "95a48276",
   "metadata": {},
   "outputs": [],
   "source": [
    "features_list = []\n",
    "labels_list = []\n",
    "waveforms = []\n",
    "sample_rates = []\n",
    "mfccs = []\n",
    "file_names = []"
   ]
  },
  {
   "cell_type": "code",
   "execution_count": 14,
   "id": "8cfb3c33",
   "metadata": {},
   "outputs": [
    {
     "name": "stderr",
     "output_type": "stream",
     "text": [
      "C:\\Users\\manen\\AppData\\Local\\Temp\\ipykernel_35464\\1430485496.py:3: UserWarning: PySoundFile failed. Trying audioread instead.\n",
      "  y, sr = librosa.load(file_path, sr=None)\n",
      "c:\\Users\\manen\\AppData\\Local\\Programs\\Python\\Python310\\lib\\site-packages\\librosa\\core\\audio.py:184: FutureWarning: librosa.core.audio.__audioread_load\n",
      "\tDeprecated as of librosa version 0.10.0.\n",
      "\tIt will be removed in librosa version 1.0.\n",
      "  y, sr_native = __audioread_load(path, offset, duration, dtype)\n"
     ]
    },
    {
     "name": "stdout",
     "output_type": "stream",
     "text": [
      "Error processing Genres\\jazz\\jazz.00054.wav: \n"
     ]
    }
   ],
   "source": [
    "for file_path in song_files:\n",
    "    # Extracting features from the audio file\n",
    "    features, y, sr, mfcc = extract_statistical_features(file_path, n_mfcc=13)\n",
    "    if features is not None:\n",
    "        features_list.append(features)\n",
    "        waveforms.append(y)\n",
    "        sample_rates.append(sr)\n",
    "        mfccs.append(mfcc)\n",
    "        file_names.append(file_path)\n",
    "        \n",
    "        # Parse the filename to extract the emotion code (3rd part of the filename)\n",
    "        base_name = os.path.basename(file_path)\n",
    "        parts = base_name.split('-')\n",
    "        if len(parts) >= 3:\n",
    "            genre_code = parts[2]\n",
    "            label = genre_map.get(genre_code, -1)  # default to -1 if not found\n",
    "            labels_list.append(label)\n",
    "        else:\n",
    "            labels_list.append(-1)"
   ]
  },
  {
   "cell_type": "code",
   "execution_count": 15,
   "id": "d11cf9de",
   "metadata": {},
   "outputs": [
    {
     "name": "stdout",
     "output_type": "stream",
     "text": [
      "Features shape: (999, 78)\n",
      "Labels shape: (999,)\n"
     ]
    }
   ],
   "source": [
    "features_array = np.array(features_list)\n",
    "labels_array = np.array(labels_list)\n",
    "\n",
    "print(\"Features shape:\", features_array.shape)\n",
    "print(\"Labels shape:\", labels_array.shape)"
   ]
  },
  {
   "cell_type": "code",
   "execution_count": null,
   "id": "40162228",
   "metadata": {},
   "outputs": [],
   "source": []
  }
 ],
 "metadata": {
  "kernelspec": {
   "display_name": "Python 3",
   "language": "python",
   "name": "python3"
  },
  "language_info": {
   "codemirror_mode": {
    "name": "ipython",
    "version": 3
   },
   "file_extension": ".py",
   "mimetype": "text/x-python",
   "name": "python",
   "nbconvert_exporter": "python",
   "pygments_lexer": "ipython3",
   "version": "3.10.0"
  }
 },
 "nbformat": 4,
 "nbformat_minor": 5
}
