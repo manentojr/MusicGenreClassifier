{
 "cells": [
  {
   "cell_type": "code",
   "execution_count": 1,
   "id": "a73af636",
   "metadata": {},
   "outputs": [],
   "source": [
    "import os\n",
    "import glob\n",
    "import numpy as np\n",
    "import librosa\n",
    "import librosa.display\n",
    "import matplotlib.pyplot as plt\n",
    "import seaborn as sns\n",
    "import joblib\n",
    "import sounddevice as sd\n",
    "from sklearn.model_selection import train_test_split\n",
    "from sklearn.ensemble import RandomForestClassifier\n",
    "from sklearn.metrics import classification_report, confusion_matrix, accuracy_score\n",
    "import tensorflow as tf\n",
    "from tensorflow.keras import layers, models\n",
    "from tensorflow.keras.models import load_model"
   ]
  },
  {
   "cell_type": "markdown",
   "id": "779daeef",
   "metadata": {},
   "source": [
    "##### Converts Genre code (string) to integer label (0-based)"
   ]
  },
  {
   "cell_type": "code",
   "execution_count": 2,
   "id": "8175c933",
   "metadata": {},
   "outputs": [],
   "source": [
    "genre_map = {\n",
    "    \"01\": 0, # Blues\n",
    "    \"02\": 1, # Classical\n",
    "    \"03\": 2, # Country\n",
    "    \"04\": 3, # Disco\n",
    "    \"05\": 4, # Hip-Hop\n",
    "    \"06\": 5, # Jazz\n",
    "    \"07\": 6, # Metal\n",
    "    \"08\": 7, # Pop\n",
    "    \"09\": 8, # Reggae\n",
    "    \"10\": 9  # Rock\n",
    "}\n",
    "\n",
    "genre_labels = [\"Blues\", \"Classical\", \"Country\", \"Disco\", \"Hip-Hop\", \"Jazz\", \"Metal\", \"Pop\", \"Reggae\", \"Rock\"]"
   ]
  },
  {
   "cell_type": "code",
   "execution_count": null,
   "id": "5eca4e5c",
   "metadata": {},
   "outputs": [],
   "source": []
  }
 ],
 "metadata": {
  "kernelspec": {
   "display_name": "Python 3",
   "language": "python",
   "name": "python3"
  },
  "language_info": {
   "codemirror_mode": {
    "name": "ipython",
    "version": 3
   },
   "file_extension": ".py",
   "mimetype": "text/x-python",
   "name": "python",
   "nbconvert_exporter": "python",
   "pygments_lexer": "ipython3",
   "version": "3.10.0"
  }
 },
 "nbformat": 4,
 "nbformat_minor": 5
}
